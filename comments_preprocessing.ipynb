{
 "cells": [
  {
   "cell_type": "code",
   "execution_count": 1,
   "metadata": {},
   "outputs": [],
   "source": [
    "import numpy as np \n",
    "import pandas as pd\n",
    "import matplotlib.pyplot as plt\n",
    "import datetime as dt\n",
    "from langdetect import detect, DetectorFactory\n",
    "DetectorFactory.seed = 0"
   ]
  },
  {
   "cell_type": "code",
   "execution_count": 2,
   "metadata": {},
   "outputs": [],
   "source": [
    "reviews = pd.read_csv('reviews.csv')"
   ]
  },
  {
   "cell_type": "code",
   "execution_count": null,
   "metadata": {},
   "outputs": [],
   "source": [
    "comments = reviews[['listing_id','id','comments']]\n",
    "comments = comments.dropna()"
   ]
  },
  {
   "cell_type": "code",
   "execution_count": null,
   "metadata": {},
   "outputs": [],
   "source": [
    "#all words to lowercase\n",
    "comments['comments'] = comments['comments'].apply(lambda x: \" \".join(x.lower() for x in x.split()))\n",
    "#remove punctuation\n",
    "comments['comments'] = comments['comments'].str.replace('[^\\w\\s]','')\n",
    "#remove comments with less than 3 characters\n",
    "comments['length'] = comments['comments'].apply(lambda x: len(x))\n",
    "comments = comments[comments['length'] >= 3]"
   ]
  },
  {
   "cell_type": "code",
   "execution_count": null,
   "metadata": {},
   "outputs": [],
   "source": [
    "language = pd.DataFrame()\n",
    "\n",
    "for i in range(0,len(comments['comments'])):\n",
    "    try: \n",
    "        language= language.append({'lang': detect(comments.iloc[i]['comments'][:30])}, ignore_index=True)\n",
    "        print(language.iloc[i]['lang'])\n",
    "    except: \n",
    "        language= language.append({'lang': 'error'}, ignore_index=True)\n",
    "        print(language.iloc[i]['lang'])"
   ]
  },
  {
   "cell_type": "code",
   "execution_count": null,
   "metadata": {},
   "outputs": [],
   "source": [
    "comments['language'] = language"
   ]
  },
  {
   "cell_type": "code",
   "execution_count": null,
   "metadata": {},
   "outputs": [],
   "source": [
    "comments = comments.dropna()\n",
    "comments = comments[comments['language'] != 'error']"
   ]
  },
  {
   "cell_type": "code",
   "execution_count": null,
   "metadata": {},
   "outputs": [],
   "source": [
    "comments.to_csv('comments_preprocessed.csv', index=False)"
   ]
  }
 ],
 "metadata": {
  "kernelspec": {
   "display_name": "Python 3",
   "language": "python",
   "name": "python3"
  },
  "language_info": {
   "codemirror_mode": {
    "name": "ipython",
    "version": 3
   },
   "file_extension": ".py",
   "mimetype": "text/x-python",
   "name": "python",
   "nbconvert_exporter": "python",
   "pygments_lexer": "ipython3",
   "version": "3.6.4"
  }
 },
 "nbformat": 4,
 "nbformat_minor": 2
}
