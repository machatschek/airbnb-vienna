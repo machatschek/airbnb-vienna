{
 "cells": [
  {
   "cell_type": "code",
   "execution_count": null,
   "metadata": {},
   "outputs": [],
   "source": [
    "import numpy as np \n",
    "import pandas as pd\n",
    "import matplotlib.pyplot as plt\n",
    "import datetime as dt\n",
    "% matplotlib notebook\n",
    "pd.set_option('display.max_columns', 100)\n",
    "\n",
    "import folium\n",
    "from folium.plugins import HeatMap\n",
    "\n",
    "from textblob import TextBlob\n",
    "from textblob import Word\n",
    "from textblob_de import TextBlobDE\n",
    "from textblob_de import Word as WordDE\n",
    "from nltk.corpus import stopwords\n",
    "from langdetect import detect, DetectorFactory\n",
    "DetectorFactory.seed = 0\n",
    "\n",
    "from currency_converter import CurrencyConverter\n",
    "import os"
   ]
  },
  {
   "cell_type": "markdown",
   "metadata": {},
   "source": [
    "<h2> 0. Load Data and create dataframe for further analysis</h2>"
   ]
  },
  {
   "cell_type": "code",
   "execution_count": null,
   "metadata": {},
   "outputs": [],
   "source": [
    "listing = pd.read_csv('listings.csv', encoding = 'utf-8')\n",
    "calendar = pd.read_csv('calendar.csv')\n",
    "reviews = pd.read_csv('reviews.csv')"
   ]
  },
  {
   "cell_type": "code",
   "execution_count": null,
   "metadata": {},
   "outputs": [],
   "source": [
    "listing_df = listing[['id','description', 'host_id', 'host_since', 'host_response_time','host_response_rate', 'host_is_superhost',\n",
    "     'host_verifications','host_identity_verified','neighbourhood_cleansed','latitude', 'longitude',\n",
    "       'is_location_exact','property_type', 'room_type','square_feet', 'accommodates',\n",
    "       'bathrooms', 'bedrooms', 'beds', 'bed_type', 'amenities',\n",
    "       'price', 'weekly_price', 'monthly_price','security_deposit',\n",
    "       'cleaning_fee', 'guests_included', 'extra_people', 'minimum_nights',\n",
    "       'maximum_nights','availability_365','number_of_reviews',\n",
    "       'first_review', 'last_review', 'review_scores_rating',\n",
    "       'review_scores_accuracy', 'review_scores_cleanliness',\n",
    "       'review_scores_checkin', 'review_scores_communication',\n",
    "       'review_scores_location', 'review_scores_value','instant_bookable',\n",
    "       'is_business_travel_ready','cancellation_policy','require_guest_profile_picture', 'require_guest_phone_verification']]\n",
    "\n",
    "listing_df['price'] = listing_df['price'].str.replace('$','')\n",
    "listing_df['price'] = listing_df['price'].str.replace(',','')\n",
    "listing_df['price'] = pd.to_numeric(listing_df['price'])\n",
    "listing_df['price'] = listing_df['price'].fillna(listing_df['price'].mean())\n",
    "\n",
    "listing_df['extra_people'] = listing_df['extra_people'].str.replace('$','')\n",
    "listing_df['extra_people'] = listing_df['extra_people'].str.replace(',','')\n",
    "listing_df['extra_people'] = pd.to_numeric(listing_df['price'])\n",
    "listing_df['extra_people'] = listing_df['extra_people'].fillna(listing_df['extra_people'].mean())\n",
    "\n",
    "cc = CurrencyConverter()\n",
    "listing_df['extra_people'] = listing_df['extra_people'].apply(lambda x: cc.convert(x,'USD','EUR'))\n",
    "listing_df['extra_people'] = listing_df['extra_people'].apply(lambda x: cc.convert(x,'USD','EUR'))\n",
    "\n",
    "# clean data from inactive listings (inactive if no review in last two years and not bookable over next year)\n",
    "listing_df['last_review'] = pd.to_datetime(listing_df['last_review'])\n",
    "listing_df['reviewed_last2years'] = listing_df['last_review'] > dt.datetime(year=2016,month=11,day=13)\n",
    "listing_df['bookable_nextyear'] = listing_df['id'].isin(calendar[calendar['available'] == 't']['listing_id'])\n",
    "inactive_listings = listing_df[(listing_df['bookable_nextyear'] == False) & (listing_df['reviewed_last2years'] == False)]\n",
    "active_listings = listing_df[~listing_df['id'].isin(inactive_listings['id'])]\n",
    "listing_df = active_listings"
   ]
  },
  {
   "cell_type": "markdown",
   "metadata": {},
   "source": [
    "<h1> 1. Information about listings and hosts </h1>"
   ]
  },
  {
   "cell_type": "code",
   "execution_count": null,
   "metadata": {},
   "outputs": [],
   "source": [
    "listing_df['host_since'] = pd.to_datetime(listing_df['host_since'])\n",
    "listing_df['first_review'] = pd.to_datetime(listing_df['first_review'])"
   ]
  },
  {
   "cell_type": "markdown",
   "metadata": {},
   "source": [
    "<h3> Number of listings and hosts</h3>"
   ]
  },
  {
   "cell_type": "code",
   "execution_count": null,
   "metadata": {},
   "outputs": [],
   "source": [
    "number_of_listings = pd.DataFrame()\n",
    "number_of_listings['host_id']= listing_df['host_id'].value_counts().index\n",
    "number_of_listings['listings']= listing_df['host_id'].value_counts().values"
   ]
  },
  {
   "cell_type": "code",
   "execution_count": null,
   "metadata": {},
   "outputs": [],
   "source": [
    "nol_dist = {\"1\": len(number_of_listings[number_of_listings['listings']== 1]),\n",
    "            \"2-5\": len(number_of_listings[number_of_listings['listings'] > 1]) - len(number_of_listings[number_of_listings['listings'] > 5]),\n",
    "            \"6-20\": len(number_of_listings[number_of_listings['listings'] > 5]) - len(number_of_listings[number_of_listings['listings'] > 20]),\n",
    "            \"20+\": len(number_of_listings[number_of_listings['listings'] > 20])}\n",
    "\n",
    "plt.cla()\n",
    "\n",
    "diff = nol_dist.keys\n",
    "y_pos = np.arange(len(nol_dist))\n",
    "values = list(nol_dist.values())\n",
    "\n",
    "fig = plt.figure().add_subplot(111)\n",
    "plt.yticks(y_pos, list(nol_dist.keys()))\n",
    "plt.subplots_adjust(left=0.15)\n",
    "plt.xticks(fontsize=9, color='darkgrey', fontweight='bold')\n",
    "plt.yticks(fontsize=9, color='darkgrey')\n",
    "plt.gca().invert_yaxis()\n",
    "\n",
    "#German version \n",
    "#plt.suptitle('Wer steckt hinter den Gastgebern: Privatpersonen oder Unternehmen?',fontsize=12)\n",
    "#plt.title('Anzahl der Gastgeber mit einem oder mehreren Objekten', fontsize=10, color='grey', fontweight='bold')\n",
    "#plt.ylabel(\"Anzahl Objekte\")\n",
    "#\n",
    "#for i in range(len(nol_dist)):\n",
    "#    fig.annotate('%s Gastgeber' %values[i], xy=(40,0.05 + i), fontsize='medium', color='black')\n",
    "#\n",
    "#plt.barh(y_pos,values)\n",
    "#plt.savefig('German Graphs/anzahl_mietobjekte_pro_gastgeber.png')\n",
    "\n",
    "#English version \n",
    "plt.suptitle('Who are the Airbnb hosts: private persons or companies?',fontsize=12)\n",
    "plt.title('Number of hosts with one or more listings', fontsize=10, color='grey', fontweight='bold')\n",
    "plt.ylabel(\"Number of listings\")\n",
    "\n",
    "for i in range(len(nol_dist)):\n",
    "    fig.annotate('%s Hosts' %values[i], xy=(40,0.05 + i), fontsize='medium', color='black')\n",
    "\n",
    "plt.barh(y_pos,values)\n",
    "plt.savefig('English Graphs/number_of_listings_per_host.png')\n"
   ]
  },
  {
   "cell_type": "markdown",
   "metadata": {},
   "source": [
    "<h3> Development of number of hosts and listings </h3>\n",
    "assumptions: we use the date of the first review as an indicator when a listing was added to Airbnb"
   ]
  },
  {
   "cell_type": "code",
   "execution_count": null,
   "metadata": {},
   "outputs": [],
   "source": [
    "hosts_per_year= {\n",
    "    \"2008\": len(listing_df[listing_df['host_since'] <= dt.date(year=2008, month=12, day=31)]['host_id'].unique()),\n",
    "    \"2009\": len(listing_df[listing_df['host_since'] <= dt.date(year=2009, month=12, day=31)]['host_id'].unique()) ,\n",
    "    \"2010\": len(listing_df[listing_df['host_since'] <= dt.date(year=2010, month=12, day=31)]['host_id'].unique()) ,\n",
    "    \"2011\": len(listing_df[listing_df['host_since'] <= dt.date(year=2011, month=12, day=31)]['host_id'].unique()) ,\n",
    "    \"2012\": len(listing_df[listing_df['host_since'] <= dt.date(year=2012, month=12, day=31)]['host_id'].unique()) ,\n",
    "    \"2013\": len(listing_df[listing_df['host_since'] <= dt.date(year=2013, month=12, day=31)]['host_id'].unique()) ,\n",
    "    \"2014\": len(listing_df[listing_df['host_since'] <= dt.date(year=2014, month=12, day=31)]['host_id'].unique()) ,\n",
    "    \"2015\": len(listing_df[listing_df['host_since'] <= dt.date(year=2015, month=12, day=31)]['host_id'].unique()) ,\n",
    "    \"2016\": len(listing_df[listing_df['host_since'] <= dt.date(year=2016, month=12, day=31)]['host_id'].unique()) ,\n",
    "    \"2017\": len(listing_df[listing_df['host_since'] <= dt.date(year=2017, month=12, day=31)]['host_id'].unique()) ,\n",
    "    \"2018\": len(listing_df[listing_df['host_since'] <= dt.date(year=2018, month=12, day=31)]['host_id'].unique())\n",
    "}\n",
    "\n",
    "fig = plt.figure().add_subplot(111)\n",
    "x = hosts_per_year.keys()\n",
    "y= hosts_per_year.values()\n",
    "\n",
    "plt.xticks(fontsize=9, color='darkgrey', fontweight='bold', rotation=20)\n",
    "plt.yticks(fontsize=9, color='darkgrey', fontweight='bold')\n",
    "\n",
    "#German version\n",
    "#plt.ylabel('Anzahl an aktiven Gastgebern')\n",
    "#plt.suptitle('Wie stark ist die Anbieterseite gewachsen?',fontsize=12)\n",
    "#plt.title('Entwicklung der Anzahl an Gastgeber seit 2008', fontsize=10, color='grey', fontweight='bold')\n",
    "#\n",
    "#for i,j in zip(x,y):\n",
    "#    fig.annotate('%s' %j, xy=(i,j), xytext=(10,0), textcoords='offset points',)\n",
    "#    \n",
    "#plt.plot(x,y, linestyle='--', marker='o', color='lightskyblue')\n",
    "#plt.savefig('German Graphs/entwicklung_anzahl_gastgeber.png')\n",
    "\n",
    "#English version\n",
    "plt.ylabel('Number of active hosts')\n",
    "plt.suptitle('How strong was the growth on the supply side?',fontsize=12)\n",
    "plt.title('Development of number of hosts since 2008', fontsize=10, color='grey', fontweight='bold')\n",
    "\n",
    "for i,j in zip(x,y):\n",
    "    fig.annotate('%s' %j, xy=(i,j), xytext=(10,0), textcoords='offset points',)\n",
    "    \n",
    "plt.plot(x,y, linestyle='--', marker='o', color='lightskyblue')\n",
    "plt.savefig('English Graphs/development_number_of_hosts.png')\n"
   ]
  },
  {
   "cell_type": "code",
   "execution_count": null,
   "metadata": {},
   "outputs": [],
   "source": [
    "listings_per_year= {\n",
    "    \"2008\": len(listing_df[listing_df['first_review'] <= dt.date(year=2008, month=12, day=31)]),\n",
    "    \"2009\": len(listing_df[listing_df['first_review'] <= dt.date(year=2009, month=12, day=31)]) ,\n",
    "    \"2010\": len(listing_df[listing_df['first_review'] <= dt.date(year=2010, month=12, day=31)]) ,\n",
    "    \"2011\": len(listing_df[listing_df['first_review'] <= dt.date(year=2011, month=12, day=31)]) ,\n",
    "    \"2012\": len(listing_df[listing_df['first_review'] <= dt.date(year=2012, month=12, day=31)]) ,\n",
    "    \"2013\": len(listing_df[listing_df['first_review'] <= dt.date(year=2013, month=12, day=31)]) ,\n",
    "    \"2014\": len(listing_df[listing_df['first_review'] <= dt.date(year=2014, month=12, day=31)]) ,\n",
    "    \"2015\": len(listing_df[listing_df['first_review'] <= dt.date(year=2015, month=12, day=31)]) ,\n",
    "    \"2016\": len(listing_df[listing_df['first_review'] <= dt.date(year=2016, month=12, day=31)]) ,\n",
    "    \"2017\": len(listing_df[listing_df['first_review'] <= dt.date(year=2017, month=12, day=31)]) ,\n",
    "    \"2018\": len(listing_df[listing_df['first_review'] <= dt.date(year=2018, month=12, day=31)])\n",
    "}\n",
    "\n",
    "fig = plt.figure().add_subplot(111)\n",
    "x = listings_per_year.keys()\n",
    "y= listings_per_year.values()\n",
    "plt.xlabel(\"Jahr\")\n",
    "plt.ylabel(\"Anzahl der Reviews\")\n",
    "\n",
    "for i,j in zip(x,y):\n",
    "    fig.annotate('%s' %j, xy=(i,j), xytext=(10,0), textcoords='offset points',)\n",
    "\n",
    "plt.plot(x,y, linestyle='--', marker='o', color='lightskyblue')"
   ]
  },
  {
   "cell_type": "markdown",
   "metadata": {},
   "source": [
    "<h3> Room types </h3>"
   ]
  },
  {
   "cell_type": "code",
   "execution_count": null,
   "metadata": {},
   "outputs": [],
   "source": [
    "room_types = listing_df['room_type'].value_counts()\n",
    "plt.cla()\n",
    "\n",
    "plt.axis('equal')\n",
    "plt.xticks(fontsize=9, color='darkgrey', fontweight='bold', rotation=20)\n",
    "plt.yticks(fontsize=9, color='darkgrey', fontweight='bold')\n",
    "\n",
    "#German version\n",
    "#plt.suptitle('Was bieten die Gastgeber ihren Gästen an?',fontsize=12)\n",
    "#plt.title('Verteilung der Objekttypen', fontsize=10, color='grey', fontweight='bold')\n",
    "#labels=['Gesamte Wohnung','Privatzimmer','Geteiltes Zimmer']\n",
    "#colors = ['dodgerblue','deepskyblue','powderblue']\n",
    "#patches, texts, _ = plt.pie(room_types.values,autopct='%1.1f%%', colors=colors, startangle=90)\n",
    "#plt.legend(patches, labels, loc=\"best\")\n",
    "#plt.legend(labels)\n",
    "#\n",
    "#plt.savefig('German Graphs/mietobjekt_typen.png')\n",
    "\n",
    "#English version\n",
    "plt.suptitle('What do hosts offer their guests?',fontsize=12)\n",
    "plt.title('Percentages of different room types', fontsize=10, color='grey', fontweight='bold')\n",
    "labels=['Whole apartment','Private room','Shared Room']\n",
    "colors = ['dodgerblue','deepskyblue','powderblue']\n",
    "patches, texts, _ = plt.pie(room_types.values,autopct='%1.1f%%', colors=colors, startangle=90)\n",
    "plt.legend(patches, labels, loc=\"best\")\n",
    "plt.legend(labels)\n",
    "\n",
    "plt.savefig('English Graphs/room_types.png')"
   ]
  },
  {
   "cell_type": "markdown",
   "metadata": {},
   "source": [
    "<h3> Additional information about listings and hosts </h3>"
   ]
  },
  {
   "cell_type": "code",
   "execution_count": null,
   "metadata": {},
   "outputs": [],
   "source": [
    "print(\"Date of first listing published: \" + str((listing_df['host_since'].min())))\n",
    "print(\"Number of listings:\" + str(len(listing_df['id'].unique())))\n",
    "print(\"Number of hosts:\" + str(len(listing_df['host_id'].unique())))\n",
    "print(\"Number of Superhosts:\" + str(len(listing_df[listing_df['host_is_superhost']== 't'])))\n",
    "print(\"Biggest Host:\" + str(number_of_listings[number_of_listings['listings'] == number_of_listings['listings'].max()]['host_id'].values[0]))\n",
    "print(\"Number of listings biggest host:\" + str(number_of_listings.max()['listings']))\n",
    "print(\"Number of hosts with just one listing: \" + str(len(number_of_listings[number_of_listings['listings'] == 1] )))"
   ]
  },
  {
   "cell_type": "markdown",
   "metadata": {},
   "source": [
    "<h1>2. Location </h1>"
   ]
  },
  {
   "cell_type": "code",
   "execution_count": null,
   "metadata": {},
   "outputs": [],
   "source": [
    "neighbourhoods = pd.DataFrame()\n",
    "neighbourhoods['name'] = listing_df['neighbourhood_cleansed'].value_counts().index\n",
    "neighbourhoods['count'] = listing_df['neighbourhood_cleansed'].value_counts().values\n",
    "neighbourhoods['longitude'] = np.arange(len(neighbourhoods['name']))\n",
    "neighbourhoods['latitude'] = np.arange(len(neighbourhoods['name']))\n",
    "\n",
    "for name in neighbourhoods['name']:\n",
    "    neighbourhoods.at[neighbourhoods['name'] == name,'longitude'] = listing_df[listing_df['neighbourhood_cleansed'] == name]['longitude'].mean()\n",
    "    neighbourhoods.at[neighbourhoods['name'] == name,'latitude'] = listing_df[listing_df['neighbourhood_cleansed'] == name]['latitude'].mean()\n",
    "  \n",
    "\n",
    "neighbourhoods['name'] = neighbourhoods['name'].str.replace('Landstra§e' ,'Landstraße')\n",
    "neighbourhoods['name'] = neighbourhoods['name'].str.replace('Fnfhaus', 'Fünfhaus')\n",
    "neighbourhoods['name'] = neighbourhoods['name'].str.replace('Whring', 'Währing')\n",
    "neighbourhoods['name'] = neighbourhoods['name'].str.replace('Dbling', 'Döbling')"
   ]
  },
  {
   "cell_type": "code",
   "execution_count": null,
   "metadata": {
    "scrolled": true
   },
   "outputs": [],
   "source": [
    "plt.cla()\n",
    "\n",
    "names = neighbourhoods.index\n",
    "y_pos = np.arange(len(names))\n",
    "values = neighbourhoods.values\n",
    "\n",
    "fig = plt.figure().add_subplot(111)\n",
    "plt.yticks(y_pos, names)\n",
    "plt.xticks(fontsize=9, color='darkgrey', fontweight='bold')\n",
    "plt.yticks(fontsize=9, color='darkgrey', rotation= 20) \n",
    "plt.subplots_adjust(left=0.25)\n",
    "plt.gca().invert_yaxis()\n",
    "\n",
    "for i in range(len(names)):\n",
    "    fig.annotate('%s' %values[i], xy=(1,0.3 + i), fontsize='small', color='white')\n",
    "\n",
    "#German version\n",
    "#plt.suptitle('In welchen Bezirken sind die meisten Airbnb Wohnungen?',fontsize=12)\n",
    "#plt.title('Anzahl Mietobjekte nach Wiener Bezirk', fontsize=10, color='grey', fontweight='bold')\n",
    "#\n",
    "#plt.barh(y_pos,values, height = 0.9)\n",
    "#plt.savefig('German Graphs/anzahl_listings_nach_bezirken.png')\n",
    "\n",
    "#English version\n",
    "plt.suptitle('In which districts are the most listings?',fontsize=12)\n",
    "plt.title('Number of listings in each district', fontsize=10, color='grey', fontweight='bold')\n",
    "\n",
    "plt.barh(y_pos,values, height = 0.9)\n",
    "plt.savefig('English graphs/number_of_listings_after_districts.png')\n",
    "\n"
   ]
  },
  {
   "cell_type": "markdown",
   "metadata": {},
   "source": [
    "<h2> Map visualization </h2>"
   ]
  },
  {
   "cell_type": "code",
   "execution_count": null,
   "metadata": {},
   "outputs": [],
   "source": [
    "#Generate map of Vienna\n",
    "base_map = folium.Map(location=[48.209,16.37], zoom_start=11.5)\n",
    "#Generate HeatMap layer on base_map\n",
    "\n",
    "for i in range(0,11):\n",
    "    temp = listing_df[listing_df['first_review'] <= dt.date(year=2008+i, month=12, day=31)]\n",
    "    temp['count'] = 1\n",
    "    HeatMap(data=temp[['latitude', 'longitude', 'count']].groupby(['latitude', 'longitude']).sum().reset_index().values.tolist(), radius=8, max_zoom=13).add_to(base_map)\n",
    "    base_map.save('heatmap200' + str(8+i) + '.html')\n"
   ]
  },
  {
   "cell_type": "code",
   "execution_count": null,
   "metadata": {},
   "outputs": [],
   "source": [
    "#Generate Marker for every district\n",
    "i=0;\n",
    "for name in neighbourhoods['name']:\n",
    "    latitude = neighbourhoods[neighbourhoods['name'] == name]['latitude'][i]\n",
    "    longitude = neighbourhoods[neighbourhoods['name'] == name]['longitude'][i]\n",
    "    count = neighbourhoods[neighbourhoods['name'] == name]['count'][i]\n",
    "    #load prices_and_neighbourhood first\n",
    "    price = prices_and_neighbourhood[prices_and_neighbourhood['neighbourhood']==name]['mean_price'].mean()\n",
    "    popup = \"<h3>\" + name + \"</h3> <p><strong>Anzahl Apartments: </strong>\" + str(count) + \"</p> <p><strong>Durchschnittlicher Preis: </strong>\" + str(round(price)) + \"€</p>\"\n",
    "    folium.CircleMarker([latitude, longitude],radius=10,fill=True, popup=popup ,tooltip=name).add_to(base_map)\n",
    "    i += 1"
   ]
  },
  {
   "cell_type": "markdown",
   "metadata": {},
   "source": [
    "<h1>3. Reviews </h1>"
   ]
  },
  {
   "cell_type": "code",
   "execution_count": null,
   "metadata": {},
   "outputs": [],
   "source": [
    "comments = pd.read_csv('comments_preprocessed.csv')\n",
    "comments = comments.dropna()\n",
    "comments = comments[comments['language'] != 'error']"
   ]
  },
  {
   "cell_type": "markdown",
   "metadata": {},
   "source": [
    "<h4> Further preprocessing </h4>"
   ]
  },
  {
   "cell_type": "code",
   "execution_count": null,
   "metadata": {},
   "outputs": [],
   "source": [
    "#remove rare and stopwords\n",
    "en_comments = comments[comments['language'] == 'en']\n",
    "de_comments = comments[comments['language'] == 'de']\n",
    "de_stop = stopwords.words('german')\n",
    "en_stop = stopwords.words('english')\n",
    "de_comments['comments'] = de_comments['comments'].apply(lambda x: \" \".join(x for x in x.split() if x not in de_stop))\n",
    "en_comments['comments'] = en_comments['comments'].apply(lambda x: \" \".join(x for x in x.split() if x not in en_stop))\n",
    "en_rare = pd.Series(' '.join(en_comments['comments']).split()).value_counts()[-200:]\n",
    "de_rare = pd.Series(' '.join(de_comments['comments']).split()).value_counts()[-200:]\n",
    "en_rare = list(en_rare.index)\n",
    "de_rare = list(de_rare.index)\n",
    "de_comments['comments'] = de_comments['comments'].apply(lambda x: \" \".join(x for x in x.split() if x not in de_rare))\n",
    "en_comments['comments'] = en_comments['comments'].apply(lambda x: \" \".join(x for x in x.split() if x not in en_rare))"
   ]
  },
  {
   "cell_type": "code",
   "execution_count": null,
   "metadata": {},
   "outputs": [],
   "source": [
    "#lemmatize english\n",
    "en_comments['comments'] = en_comments['comments'].apply(lambda x: \" \".join([Word(word).lemmatize() for word in x.split()]))\n",
    "#lemmatize german - not implemented\n",
    "#de_comments['comments'] = de_comments['comments'].apply(lambda x: \" \".join([WordDE(word).lemmatize() for word in x.split()]))"
   ]
  },
  {
   "cell_type": "markdown",
   "metadata": {},
   "source": [
    "<h3> Frequent positive feedback </h3>"
   ]
  },
  {
   "cell_type": "code",
   "execution_count": null,
   "metadata": {},
   "outputs": [],
   "source": [
    "en_comments['sentiment_polarity'] = en_comments['comments'].apply(lambda x: TextBlob(x).sentiment.polarity)\n",
    "pos_en_comments = en_comments[en_comments['sentiment_polarity'] > 0]\n",
    "pos_freq = en_rare = pd.Series(' '.join(pos_en_comments['comments']).split()).value_counts()[:30]\n",
    "pos_freq"
   ]
  },
  {
   "cell_type": "markdown",
   "metadata": {},
   "source": [
    "<h3> General infos about reviews </h3>"
   ]
  },
  {
   "cell_type": "code",
   "execution_count": null,
   "metadata": {},
   "outputs": [],
   "source": [
    "total_reviews = len(reviews['id'])\n",
    "listings_with_review = len(reviews['listing_id'].unique())\n",
    "reviews_per_listing = reviews['listing_id'].value_counts()\n",
    "print(\"Reviews insgesamt: \" + str(total_reviews))\n",
    "print(\"Listings mit Reviews : \" + str(listings_with_review) + ' (=' + str(round((listings_with_review / total_listings) *100 , 2)) + '%)')"
   ]
  },
  {
   "cell_type": "markdown",
   "metadata": {},
   "source": [
    "<h3> Language of reviews </h3>"
   ]
  },
  {
   "cell_type": "code",
   "execution_count": null,
   "metadata": {},
   "outputs": [],
   "source": [
    "languages_of_listings = comments['language'].value_counts() / len(comments['language'])\n",
    "print(languages_of_listings['en'])\n",
    "print(languages_of_listings['de'])\n",
    "print(languages_of_listings['fr'])"
   ]
  },
  {
   "cell_type": "markdown",
   "metadata": {},
   "source": [
    "<h1>4. Pricing </h1>"
   ]
  },
  {
   "cell_type": "code",
   "execution_count": null,
   "metadata": {},
   "outputs": [],
   "source": [
    "calendar['price'] = calendar['price'].str.replace('$','')\n",
    "calendar['price'] = calendar['price'].str.replace(',','')\n",
    "calendar['price'] = pd.to_numeric(calendar['price'])\n",
    "calendar['price'] = calendar.groupby('listing_id').transform(lambda x: x.fillna(x.mean()))\n",
    "calendar['date'] = pd.to_datetime(calendar['date'])\n",
    "calendar['weekday'] = calendar['date'].apply(lambda x: x.weekday())"
   ]
  },
  {
   "cell_type": "code",
   "execution_count": null,
   "metadata": {},
   "outputs": [],
   "source": [
    "cc = CurrencyConverter()\n",
    "calendar['price'] = calendar['price'].apply(lambda x: cc.convert(x,'USD','EUR'))"
   ]
  },
  {
   "cell_type": "code",
   "execution_count": null,
   "metadata": {},
   "outputs": [],
   "source": [
    "print(\"Average Price: \" + str(round(calendar['price'].mean(), 2)))\n",
    "print(\"Most expensive price: \" + str(round(calendar['price'].max(), 2)))\n",
    "print(\"Cheapest price: \" + str(round(calendar['price'].min(), 2)))\n",
    "print(\"Average price on new years eve: \" + str(round(calendar[calendar['date'] == dt.datetime(year=2018, month=12, day=31)]['price'].mean(), 2)))"
   ]
  },
  {
   "cell_type": "markdown",
   "metadata": {},
   "source": [
    "<h3> Development of average prives over the year </h3>"
   ]
  },
  {
   "cell_type": "code",
   "execution_count": null,
   "metadata": {},
   "outputs": [],
   "source": [
    "dates_with_mean_prices = pd.DataFrame()\n",
    "dates_with_mean_prices['date'] = calendar.groupby(['date'])['price'].mean().index\n",
    "dates_with_mean_prices['price'] = calendar.groupby(['date'])['price'].mean().values\n",
    "\n",
    "\n",
    "dates_with_mean_prices['week'] = pd.Series()\n",
    "week = 0\n",
    "for i in range(len(dates_with_mean_prices['week'])):\n",
    "    if(i%7 == 0):\n",
    "        week = week + 1\n",
    "    dates_with_mean_prices.at[i,'week'] = week\n",
    "\n",
    "dates_with_mean_prices = dates_with_mean_prices[dates_with_mean_prices['week'] != 53]"
   ]
  },
  {
   "cell_type": "code",
   "execution_count": null,
   "metadata": {},
   "outputs": [],
   "source": [
    "plt.cla()\n",
    "\n",
    "x = dates_with_mean_prices.groupby('week').sum()['price'].index\n",
    "y= dates_with_mean_prices.groupby('week').sum()['price'].values / 7\n",
    "\n",
    "fig,ax = plt.subplots()\n",
    "\n",
    "ax.set_xticks([0.8,5,9,13.5,18,22.5,27,31.5,36,40.5,45,49.5])\n",
    "plt.subplots_adjust(bottom=0.25)\n",
    "\n",
    "plt.xticks(fontsize=9, color='darkgrey', fontweight='bold', rotation=90)\n",
    "plt.yticks(fontsize=9, color='darkgrey', fontweight='bold') \n",
    "plt.plot(x,y, color='lightskyblue')\n",
    "\n",
    "#German Version\n",
    "#labels = ['November', 'Dezember','Januar', 'Februar', 'März', 'April', 'Mai', 'Juni', 'Juli', 'August', 'September', 'Oktober']\n",
    "#plt.suptitle('Saisonalität der Preise im Jahresverlauf',fontsize=12)\n",
    "#plt.title('Entwicklung des durchnittlichen Preis pro Nacht', fontsize=10, color='grey', fontweight='bold')\n",
    "#plt.ylabel('Preis pro Nacht in €')\n",
    "#ax.set_xticklabels(labels, minor=False)\n",
    "#plt.savefig('German Graphs/saisonalität_preise_jahr.png')\n",
    "\n",
    "#English Version\n",
    "labels = ['November', 'December','January', 'February', 'March', 'April', 'May', 'June', 'July', 'August', 'September', 'October']\n",
    "plt.suptitle('Saisonality of prices over the year',fontsize=12)\n",
    "plt.title('Development of average price per night', fontsize=10, color='grey', fontweight='bold')\n",
    "plt.ylabel('Price per night in €')\n",
    "ax.set_xticklabels(labels, minor=False)\n",
    "plt.savefig('English Graphs/saiosonality_prices_year.png')"
   ]
  },
  {
   "cell_type": "markdown",
   "metadata": {},
   "source": [
    "<h3> Average prices on different weekdays </h3>"
   ]
  },
  {
   "cell_type": "code",
   "execution_count": null,
   "metadata": {},
   "outputs": [],
   "source": [
    "days_with_mean_prices = calendar.groupby(['weekday'])['price'].mean()\n",
    "\n",
    "plt.cla()\n",
    "\n",
    "fig,ax = plt.subplots()\n",
    "\n",
    "y_pos = np.arange(len(days_with_mean_prices.index))\n",
    "values= days_with_mean_prices.values\n",
    "ax.set_xticks(y_pos)   \n",
    "\n",
    "plt.xticks(fontsize=9, color='darkgrey', fontweight='bold', rotation=20)\n",
    "plt.yticks(fontsize=9, color='darkgrey', fontweight='bold') \n",
    "plt.plot(y_pos,values, linestyle='--', marker='o', color='lightskyblue')\n",
    "\n",
    "#German version \n",
    "#labels= ['Montag', 'Dienstag', 'Mittwoch', 'Donnerstag', 'Freitag', 'Samstag','Sonntag']\n",
    "#ax.set_xticklabels(labels, minor=False, rotation=10)\n",
    "#plt.suptitle('Änderungen der Preise im Wochenverlauf',fontsize=12)\n",
    "#plt.title('Entwicklung des durchnittlichen Preis pro Nacht', fontsize=10, color='grey', fontweight='bold')\n",
    "#plt.ylabel('Preis pro Nacht in €') \n",
    "#plt.savefig('German Graphs/änderungen_preise_woche.png')\n",
    "\n",
    "#English version\n",
    "labels= ['Monday', 'Tuesday', 'Wednesday', 'Thursday', 'Friday', 'Saturday','Sunday']\n",
    "ax.set_xticklabels(labels, minor=False, rotation=10)\n",
    "plt.suptitle('Price changes over the week',fontsize=12)\n",
    "plt.title('Development of average price per night', fontsize=10, color='grey', fontweight='bold')\n",
    "plt.ylabel('Price per night in €') \n",
    "plt.savefig('English Graphs/changes_prices_week.png')\n"
   ]
  },
  {
   "cell_type": "markdown",
   "metadata": {},
   "source": [
    "<h3> Average prices of neighbourhoods </h3>"
   ]
  },
  {
   "cell_type": "code",
   "execution_count": null,
   "metadata": {},
   "outputs": [],
   "source": [
    "prices_and_neighbourhood = pd.DataFrame()\n",
    "prices_and_neighbourhood['listing_id'] = calendar.groupby(['listing_id'])['price'].mean().index\n",
    "prices_and_neighbourhood['mean_price'] = calendar.groupby(['listing_id'])['price'].mean().values\n",
    "listing_df.sort_values(by='id', inplace=True, )\n",
    "prices_and_neighbourhood.sort_values(by='listing_id', inplace=True, )\n",
    "for i in range(len(listing_df['id'])):\n",
    "    if listing_df.iloc[i]['id'] == prices_and_neighbourhood.iloc[i]['listing_id']:\n",
    "        continue\n",
    "    else: \n",
    "        print(listing_df.iloc[i]['id'])\n",
    "        break\n",
    "        \n",
    "prices_and_neighbourhood['neighbourhood'] = listing_df[listing_df.id != 116884]['neighbourhood_cleansed']\n",
    "prices_and_neighbourhood['neighbourhood']= prices_and_neighbourhood['neighbourhood'].str.replace('Landstra§e' ,'Landstraße')\n",
    "prices_and_neighbourhood['neighbourhood']= prices_and_neighbourhood['neighbourhood'].str.replace('Fnfhaus', 'Fünfhaus')\n",
    "prices_and_neighbourhood['neighbourhood']= prices_and_neighbourhood['neighbourhood'].str.replace('Whring', 'Währing')\n",
    "prices_and_neighbourhood['neighbourhood']= prices_and_neighbourhood['neighbourhood'].str.replace('Dbling', 'Döbling')\n",
    "\n",
    "plt.cla()\n",
    "\n",
    "names = prices_and_neighbourhood.groupby(['neighbourhood'])['mean_price'].mean().sort_values(ascending = False).index\n",
    "y_pos = np.arange(len(names))\n",
    "values = prices_and_neighbourhood.groupby(['neighbourhood'])['mean_price'].mean().sort_values(ascending = False).values\n",
    "\n",
    "\n",
    "fig = plt.figure().add_subplot(111)\n",
    "plt.yticks(y_pos, names)\n",
    "plt.subplots_adjust(left=0.25)\n",
    "plt.gca().invert_yaxis()\n",
    "\n",
    "\n",
    "plt.xticks(fontsize=9, color='darkgrey', fontweight='bold')\n",
    "plt.yticks(fontsize=9, color='darkgrey', rotation= 20) \n",
    "\n",
    "for i in range(len(names)):\n",
    "    fig.annotate('%s€' %round(values[i], 2), xy=(1,0.3 + i), fontsize='small', color='white')\n",
    "\n",
    "#German version\n",
    "#plt.suptitle('Wo sind Airbnb Wohnungen am teuersten?',fontsize=12)\n",
    "#plt.title('Durschnitllicher Preis pro Nacht nach Bezirk', fontsize=10, color='grey', fontweight='bold')\n",
    "#plt.barh(y_pos,values)\n",
    "#plt.savefig('German Graphs/preise_nach_bezirk.png')\n",
    "\n",
    "#English version \n",
    "plt.suptitle('Which district is the most expensive area?',fontsize=12)\n",
    "plt.title('Average price per night of each district', fontsize=10, color='grey', fontweight='bold')\n",
    "plt.barh(y_pos,values)\n",
    "plt.savefig('English Graphs/prices_for_districts.png')"
   ]
  },
  {
   "cell_type": "code",
   "execution_count": null,
   "metadata": {},
   "outputs": [],
   "source": [
    "prices_and_neighbourhood"
   ]
  },
  {
   "cell_type": "markdown",
   "metadata": {},
   "source": [
    "<h3> Distribution of and Average Prices for different apartment sizes </h3>"
   ]
  },
  {
   "cell_type": "code",
   "execution_count": null,
   "metadata": {},
   "outputs": [],
   "source": [
    "one_bedroom = listing_df[listing_df['bedrooms'] == 1]\n",
    "two_bedrooms = listing_df[listing_df['bedrooms'] == 2]\n",
    "three_bedrooms = listing_df[listing_df['bedrooms'] == 3]\n",
    "four_or_more_bedrooms = listing_df[listing_df['bedrooms'] >= 4]"
   ]
  },
  {
   "cell_type": "code",
   "execution_count": null,
   "metadata": {},
   "outputs": [],
   "source": [
    "dist_apartment_sizes = {\"1\": len(one_bedroom), \"2\":len(two_bedrooms), \"3\":len(three_bedrooms), \"4+\": len(four_or_more_bedrooms)}\n",
    "\n",
    "plt.cla()\n",
    "\n",
    "values = dist_apartment_sizes.values()\n",
    "\n",
    "plt.axis('equal')\n",
    "plt.xticks(fontsize=9, color='darkgrey', fontweight='bold', rotation=20)\n",
    "plt.yticks(fontsize=9, color='darkgrey', fontweight='bold')\n",
    "\n",
    "colors = ['dodgerblue','deepskyblue','lightskyblue', \"lightblue\"]\n",
    "\n",
    "#German version\n",
    "#plt.suptitle('Wie groß sind Airbnb Wohnungen?',fontsize=12)\n",
    "#plt.title('Anzahl der Schlafzimmer', fontsize=10, color='grey', fontweight='bold')\n",
    "#labels=['1 Schlafzimmer','2 Schlafzimmer','3 Schlafzimmer', \"4+ Schlafzimmer\"]\n",
    "#\n",
    "#patches, texts, _ = plt.pie(values,autopct='%1.1f%%', colors=colors, startangle=90, pctdistance=1.15,   labeldistance=1.2)\n",
    "#plt.legend(patches, labels, loc=\"best\")\n",
    "#plt.legend(labels)\n",
    "#\n",
    "#plt.savefig('German Graphs/größe_der_Wohnungen.png')\n",
    "\n",
    "#English version\n",
    "plt.suptitle('How big are Airbnb apartments?',fontsize=12)\n",
    "plt.title('Number of bedrooms', fontsize=10, color='grey', fontweight='bold')\n",
    "labels=['1 bedroom ','2 bedrooms','3 bedrooms', \"4+ bedrooms\"]\n",
    "\n",
    "patches, texts, _ = plt.pie(values,autopct='%1.1f%%', colors=colors, startangle=90, pctdistance=1.15,   labeldistance=1.2)\n",
    "plt.legend(patches, labels, loc=\"best\")\n",
    "plt.legend(labels)\n",
    "\n",
    "plt.savefig('English Graphs/apartment_sizes.png')"
   ]
  },
  {
   "cell_type": "code",
   "execution_count": null,
   "metadata": {},
   "outputs": [],
   "source": [
    "avg_price_apartment_sizes = {\"1\": one_bedroom['price'].mean(),\n",
    "                             \"2\": two_bedrooms['price'].mean(),\n",
    "                             \"3\": three_bedrooms['price'].mean(),\n",
    "                             \"4+\": four_or_more_bedrooms['price'].mean()}\n",
    "plt.cla()\n",
    "\n",
    "names = avg_price_apartment_sizes.keys()\n",
    "y_pos = np.arange(len(names))\n",
    "values = list(avg_price_apartment_sizes.values())\n",
    "\n",
    "fig = plt.figure().add_subplot(111)\n",
    "plt.yticks(y_pos, names)\n",
    "plt.subplots_adjust(left=0.1)\n",
    "plt.gca().invert_yaxis()\n",
    "\n",
    "plt.xticks(fontsize=9, color='darkgrey', fontweight='bold')\n",
    "plt.yticks(fontsize=9, color='darkgrey')\n",
    "\n",
    "i=0\n",
    "for key in names:\n",
    "    fig.annotate('%s€' %round(avg_price_apartment_sizes[key], 2), xy=(1,i), fontsize='medium', color='white')\n",
    "    i += 1\n",
    "\n",
    "#German version\n",
    "#plt.suptitle('Wie hoch ist der Preis pro Nacht?',fontsize=12)\n",
    "#plt.title('Durschnittlicher Preis pro Nacht nach Größe der Wohnung', fontsize=10, color='grey', fontweight='bold')\n",
    "#plt.xlabel('Preis pro Nacht in €')\n",
    "#plt.ylabel('Anzahl der Schlafzimmer')\n",
    "#plt.barh(y_pos,values)\n",
    "\n",
    "#plt.savefig('German Graphs/preise_nach_größe.png')\n",
    "\n",
    "#English version\n",
    "plt.suptitle('How high is the price per night?',fontsize=12)\n",
    "plt.title('Average price per night for different apartment sizes', fontsize=10, color='grey', fontweight='bold')\n",
    "plt.xlabel('Price per night in €')\n",
    "plt.ylabel('Number of bedrooms')\n",
    "plt.barh(y_pos,values)\n",
    "\n",
    "plt.savefig('English Graphs/prices_by_apartment_size.png')"
   ]
  },
  {
   "cell_type": "markdown",
   "metadata": {},
   "source": [
    "<h3> Sample calculation for monthly income </h3>\n",
    "- occupancy rate of 90% \n",
    "- district: leopoldstadt\n",
    "- number of bedrooms: 1\n",
    "- average people per visit: 1.5"
   ]
  },
  {
   "cell_type": "code",
   "execution_count": null,
   "metadata": {},
   "outputs": [],
   "source": [
    "one_bedroom_in_leopoldstadt = one_bedroom[one_bedroom['neighbourhood_cleansed'] == 'Leopoldstadt']\n",
    "price_total = (one_bedroom_in_leopoldstadt['price'].sum()) + 0.5* (one_bedroom_in_leopoldstadt[one_bedroom_in_leopoldstadt['guests_included'] == 1]['extra_people'].sum())\n",
    "avg_price = price_total / len(one_bedroom_in_leopoldstadt)\n",
    "monthly_income = (avg_price * 365 * 0.85)/12"
   ]
  },
  {
   "cell_type": "markdown",
   "metadata": {},
   "source": [
    "<h1>5. Demand </h1>\n",
    "<h3> Occupancy rate </h3>\n",
    "<h4>Assumptions:</h4>\n",
    "- Review Rate of 50% is used to convert reviews to estimated bookings\n",
    "- the average length is assumed to be 3 nights\n",
    "- the average length of stay multiplied by the estimated bookings for each listing over a period gives the occupancy rate\n",
    "- If a listing has a higher minimum nights value than the average length of stay, the minimum nights value was used instead.The opposite applies to maximum nights.\n",
    "- occupancy rate was capped at 99%"
   ]
  },
  {
   "cell_type": "code",
   "execution_count": null,
   "metadata": {},
   "outputs": [],
   "source": [
    "reviews['date'] = pd.to_datetime(reviews['date'])\n",
    "reviews_per_listing = reviews[reviews['date'] >= dt.date(year=2017, month=11, day=15)]['listing_id'].value_counts().sort_index()"
   ]
  },
  {
   "cell_type": "code",
   "execution_count": null,
   "metadata": {},
   "outputs": [],
   "source": [
    "occupancy_df = pd.DataFrame()\n",
    "occupancy_df['listing_id'] = reviews_per_listing.index\n",
    "occupancy_df['reviews_count'] = reviews_per_listing.values\n",
    "occupancy_df['bookings'] = reviews_per_listing.values*2"
   ]
  },
  {
   "cell_type": "code",
   "execution_count": null,
   "metadata": {},
   "outputs": [],
   "source": [
    "df = listing_df[listing_df.id.isin(occupancy_df.listing_id)]\n",
    "df.sort_values(by='id')\n",
    "df = df.reset_index(drop=True)\n",
    "occupancy_df['price'] = df['price']\n",
    "occupancy_df['minimum_nights'] = df['minimum_nights']\n",
    "occupancy_df['maximum_nights'] = df['maximum_nights']"
   ]
  },
  {
   "cell_type": "code",
   "execution_count": null,
   "metadata": {},
   "outputs": [],
   "source": [
    "occupancy_df['average_length'] = np.full(shape=len(occupancy_df['listing_id']), fill_value=3)\n",
    "for i in range(len(occupancy_df['average_length'])):\n",
    "    if occupancy_df.iloc[i]['average_length'] < occupancy_df.iloc[i]['minimum_nights']:\n",
    "        occupancy_df.at[i, 'average_length'] = occupancy_df.iloc[i]['minimum_nights']\n",
    "        continue\n",
    "    if occupancy_df.iloc[i]['average_length'] > occupancy_df.iloc[i]['maximum_nights']:\n",
    "        occupancy_df.at[i, 'average_length'] = occupancy_df.iloc[i]['maximum_nights']"
   ]
  },
  {
   "cell_type": "code",
   "execution_count": null,
   "metadata": {},
   "outputs": [],
   "source": [
    "occupancy_df['occupancy_rate'] = (occupancy_df['average_length']*occupancy_df['bookings'])/365\n",
    "for i in range(len(occupancy_df['occupancy_rate'])):\n",
    "    if occupancy_df.iloc[i]['occupancy_rate'] >= 0.99: \n",
    "        occupancy_df.at[i,'occupancy_rate'] = 0.99"
   ]
  },
  {
   "cell_type": "code",
   "execution_count": null,
   "metadata": {},
   "outputs": [],
   "source": [
    "dist_or = { '<20%':len(occupancy_df[occupancy_df['occupancy_rate'] < 0.20]),\n",
    "            '21-75%':len(occupancy_df[occupancy_df['occupancy_rate'] > 0.20]) - len(occupancy_df[occupancy_df['occupancy_rate'] > 0.75]), \n",
    "            '75%+':len(occupancy_df[occupancy_df['occupancy_rate'] > 0.75])}\n",
    "\n",
    "plt.cla()\n",
    "y_pos = np.arange(len(dist_or))\n",
    "values = list(dist_or.values())\n",
    "fig = plt.figure().add_subplot(111)\n",
    "plt.yticks(y_pos, list(dist_or.keys()))\n",
    "plt.xticks(fontsize=9, color='darkgrey', fontweight='bold')\n",
    "plt.yticks(fontsize=9, color='darkgrey',fontweight='bold') \n",
    "\n",
    "plt.subplots_adjust(left=0.15)\n",
    "plt.gca().invert_yaxis()\n",
    "\n",
    "#German version\n",
    "#plt.ylabel('Auslastung in %')\n",
    "#plt.suptitle('Wie hoch ist die Auslastung bei Airbnb Vermietung?',fontsize=14)\n",
    "#plt.title('Aufteilung der Mietobjekte in drei Kategorien', fontsize=10, color='grey', fontweight='bold')\n",
    "#for i in range(len(dist_or)):\n",
    "#    fig.annotate('%s Objekte' %values[i], xy=(40,0.01 + i), fontsize='small', color='white')\n",
    "#\n",
    "#plt.barh(y_pos,values)\n",
    "#plt.savefig('German graphs/auslastung_allgemein.png')\n",
    "\n",
    "#English version\n",
    "plt.ylabel('Occupancy in %')\n",
    "plt.suptitle('How high is the occupancy rate of Airbnb rentals?',fontsize=14)\n",
    "plt.title('Three categories', fontsize=10, color='grey', fontweight='bold')\n",
    "for i in range(len(dist_or)):\n",
    "    fig.annotate('%s Listings' %values[i], xy=(40,0.01 + i), fontsize='small', color='white')\n",
    "\n",
    "plt.barh(y_pos,values)\n",
    "plt.savefig('English Graphs/general_occupancy.png')"
   ]
  },
  {
   "cell_type": "markdown",
   "metadata": {},
   "source": [
    "<h3> Characteristics of listings with a high/low occupancy rate </h3>"
   ]
  },
  {
   "cell_type": "code",
   "execution_count": null,
   "metadata": {},
   "outputs": [],
   "source": [
    "hior_listings = occupancy_df[occupancy_df['occupancy_rate'] < 0.90]['listing_id'].reset_index(drop=True)\n",
    "hior_df = listing_df[listing_df.id.isin(hior_listings)].reset_index(drop=True)\n",
    "hior_df['host_response_rate'] = hior_df['host_response_rate'].str.replace('%','')\n",
    "hior_df['host_response_rate'] = pd.to_numeric(hior_df['host_response_rate'])\n",
    "hior_df['security_deposit'] = hior_df['security_deposit'].str.replace('$','')\n",
    "hior_df['security_deposit'] = hior_df['security_deposit'].str.replace(',','')\n",
    "hior_df['security_deposit'] = pd.to_numeric(hior_df['security_deposit'])\n",
    "hior_df['cleaning_fee'] = hior_df['cleaning_fee'].str.replace('$','')\n",
    "hior_df['cleaning_fee'] = pd.to_numeric(hior_df['cleaning_fee'])\n",
    "\n",
    "cc = CurrencyConverter()\n",
    "hior_df['security_deposit'] = hior_df['security_deposit'].apply(lambda x: cc.convert(x,'USD','EUR'))\n",
    "hior_df['cleaning_fee'] = hior_df['cleaning_fee'].apply(lambda x: cc.convert(x,'USD','EUR'))\n",
    "hior_df['price'] = hior_df['price'].apply(lambda x: cc.convert(x,'USD','EUR'))\n",
    "\n",
    "\n",
    "wifi = 0\n",
    "no_wifi = 0\n",
    "tv = 0\n",
    "no_tv = 0\n",
    "for i in range(len(hior_df['amenities'])):\n",
    "    if 'Wifi' in hior_df['amenities'][i]:\n",
    "        wifi = wifi + 1\n",
    "    else: no_wifi = no_wifi + 1\n",
    "    if 'TV' in hior_df['amenities'][i]:\n",
    "        tv = tv + 1\n",
    "    else: no_tv = no_tv + 1\n",
    "\n",
    "description_lang = pd.DataFrame()\n",
    "for i in range(0,len(hior_df['description'])):\n",
    "    try: \n",
    "        description_lang= description_lang.append({'lang': detect(hior_df.iloc[i]['description'])}, ignore_index=True)\n",
    "        #print(description_lang.iloc[i]['lang'])\n",
    "        if(i%100 == 0):\n",
    "            print(str(len(hior_df['description']) - i) + \" remaining\")\n",
    "    except: \n",
    "        description_lang= description_lang.append({'lang': 'error'}, ignore_index=True)\n",
    "        #print(description_lang.iloc[i]['lang'])\n",
    "        \n",
    "hior_df['description_lang'] = description_lang\n",
    "hior_df.head()"
   ]
  },
  {
   "cell_type": "code",
   "execution_count": null,
   "metadata": {},
   "outputs": [],
   "source": [
    "dist_total = (listing_df['neighbourhood_cleansed'].value_counts() / len(listing_df)) * 100\n",
    "dist_hior = (hior_df['neighbourhood_cleansed'].value_counts() / len(hior_df)) * 100\n",
    "diff = dist_total - dist_hior"
   ]
  },
  {
   "cell_type": "code",
   "execution_count": null,
   "metadata": {},
   "outputs": [],
   "source": [
    "perc_host_answer_onehour= round(hior_df['host_response_time'].value_counts()['within an hour']/len(hior_df),4)*100\n",
    "answer_rate = round(hior_df['host_response_rate'].mean(), 2)\n",
    "\n",
    "perc_superhost =round(round(hior_df['host_is_superhost'].value_counts()['t']/len(hior_df),4)*100,2)\n",
    "\n",
    "review_score_cleanliness = round(hior_df['review_scores_cleanliness'].mean(),2)\n",
    "review_score_checkin = round(hior_df['review_scores_checkin'].mean(),2)\n",
    "review_score_communication = round(hior_df['review_scores_communication'].mean(),2)\n",
    "review_score_location = round(hior_df['review_scores_location'].mean(),2)\n",
    "review_score_value = round(hior_df['review_scores_value'].mean(),2)\n",
    "\n",
    "perc_instant_bookable = round(hior_df['instant_bookable'].value_counts()['t'] / len(hior_df), 4) * 100\n",
    "\n",
    "perc_identiy_verified = round(hior_df['host_identity_verified'].value_counts()['t']/len(hior_df),4) * 100\n",
    "\n",
    "perc_whole_apartment = (round(hior_df['room_type'].value_counts()/len(hior_df),4) * 100).iloc[0]\n",
    "perc_private_room = (round(hior_df['room_type'].value_counts()/len(hior_df),4) * 100).iloc[1]\n",
    "perc_shared_room = (round(hior_df['room_type'].value_counts()/len(hior_df),4) * 100).iloc[2]\n",
    "\n",
    "accommodates = round(hior_df['accommodates'].mean(),1)\n",
    "\n",
    "avg_price = round(hior_df['price'].mean(),2)\n",
    "price_75th_percentile = round(hior_df['price'].describe()[\"75%\"], 2)\n",
    "\n",
    "minimum_night_75th_percentile = round(hior_df['minimum_nights'].describe()['75%'])\n",
    "\n",
    "avg_number_of_reviews = round(hior_df['number_of_reviews'].mean())\n",
    "number_of_reviews_75th_percentile = round(hior_df['number_of_reviews'].mean())\n",
    "\n",
    "avg_security_deposit = round(hior_df['security_deposit'].mean())\n",
    "avg_cleaning_fee = round(hior_df['cleaning_fee'].mean())\n",
    "\n",
    "perc_english_description = round(((hior_df['description_lang'].value_counts()['en'] / len(hior_df['description_lang']))*100),2)"
   ]
  },
  {
   "cell_type": "markdown",
   "metadata": {},
   "source": [
    "<h3> Saisonality of demand </h3>\n",
    "<b>assumptions:</b>\n",
    "- for the demand of a specific day we calculated a score as followed: <i>demand_dayX = 0.8 x number_of_reviews_1day_after_dayX + 0.2 x number_of_reviews_1-7days_after_dayX </i>"
   ]
  },
  {
   "cell_type": "code",
   "execution_count": null,
   "metadata": {},
   "outputs": [],
   "source": [
    "reviews['date'] = pd.to_datetime(reviews['date'])\n",
    "saisonal_df = reviews[reviews['date'] >= dt.date(year=2017, month=11, day=15)][['id', 'date']]\n",
    "saisonal_df['date'] = pd.to_datetime(saisonal_df['date'])"
   ]
  },
  {
   "cell_type": "code",
   "execution_count": null,
   "metadata": {},
   "outputs": [],
   "source": [
    "demand_df = pd.DataFrame()\n",
    "demand_df['date'] = saisonal_df['date'].value_counts().sort_index().index\n",
    "demand_df['reviews_per_day'] = saisonal_df['date'].value_counts().sort_index().values"
   ]
  },
  {
   "cell_type": "code",
   "execution_count": null,
   "metadata": {},
   "outputs": [],
   "source": [
    "for i in range(len(demand_df['date'])-7):\n",
    "    demand_df.at[i,'demand_score'] = 0.8*demand_df.iloc[i+1]['reviews_per_day'] + 0.2*demand_df.iloc[i+1:i+7]['reviews_per_day'].sum()\n",
    "for i in range(len(demand_df['date'])-7, len(demand_df['date'])):\n",
    "    demand_df.at[i,'demand_score'] = demand_df.iloc[i-1]['demand_score']"
   ]
  },
  {
   "cell_type": "code",
   "execution_count": null,
   "metadata": {},
   "outputs": [],
   "source": [
    "demand_df['week'] = pd.Series()\n",
    "week = 0\n",
    "for i in range(len(demand_df['date'])):\n",
    "    if(i%7 == 0):\n",
    "        week = week + 1\n",
    "    demand_df.at[i,'week'] = week\n",
    "demand_df= demand_df[demand_df['week'] != 53]\n",
    "\n",
    "#take data from first week to calculate demand score of last week \n",
    "temp_demand_df = demand_df[(demand_df['date'] >= dt.datetime(year=2018, month= 11, day=7)) | (demand_df['date'] <= dt.datetime(year=2017, month= 11, day=21))]\n",
    "temp_demand_df['date']= temp_demand_df['date'].apply(lambda x: x.replace(year=2017))\n",
    "temp_demand_df = temp_demand_df.sort_values('date')\n",
    "temp_demand_df = temp_demand_df.reset_index(drop=True)\n",
    "\n",
    "for i in range(len(temp_demand_df[temp_demand_df['week'] == 52])):\n",
    "    temp_demand_df.at[i,'demand_score'] = 0.8*temp_demand_df.iloc[i+1]['reviews_per_day'] + 0.2*temp_demand_df.iloc[i+1:i+7]['reviews_per_day'].sum()\n",
    "\n",
    "j=0\n",
    "for i in range(len(demand_df['date'])-7, len(demand_df['date'])):\n",
    "    demand_df.at[i,'demand_score'] = temp_demand_df.iloc[j]['demand_score']\n",
    "    j=j+1"
   ]
  },
  {
   "cell_type": "code",
   "execution_count": null,
   "metadata": {},
   "outputs": [],
   "source": [
    "plt.cla()\n",
    "\n",
    "x = demand_df.groupby('week').sum()['demand_score'].index\n",
    "y= demand_df.groupby('week').sum()['demand_score'].values\n",
    "\n",
    "fig,ax = plt.subplots()\n",
    "ax.set_xticks([0.8,5,9,13.5,18,22.5,27,31.5,36,40.5,45,49.5])\n",
    "plt.subplots_adjust(bottom=0.25)\n",
    "plt.xticks(fontsize=9, color='darkgrey', fontweight='bold', rotation=90)\n",
    "plt.yticks(fontsize=9, color='darkgrey', fontweight='bold')\n",
    "plt.plot(x,y, color='lightskyblue')\n",
    "\n",
    "#German version \n",
    "#labels = ['November', 'Dezember','Januar', 'Februar', 'März', 'April', 'Mai', 'Juni', 'Juli', 'August', 'September', 'Oktober']\n",
    "#ax.set_xticklabels(labels, minor=False)\n",
    "#plt.suptitle('Saisonalität der Nachfrage im Jahresverlauf',fontsize=12)\n",
    "#plt.title('Verlauf der Nachfrage innerhalb eines Jahres', fontsize=10, color='grey', fontweight='bold')\n",
    "#plt.savefig('German Graphs/saisonalität_nachfrage_jahr.png')\n",
    "\n",
    "#English version \n",
    "labels = ['November', 'December','January', 'February', 'March', 'April', 'May', 'June', 'July', 'August', 'September', 'October']\n",
    "ax.set_xticklabels(labels, minor=False)\n",
    "plt.suptitle('Saisonality of demand over the year',fontsize=12)\n",
    "plt.title('Development of demand', fontsize=10, color='grey', fontweight='bold')\n",
    "plt.savefig('English Graphs/saisonality_demand_year.png')"
   ]
  },
  {
   "cell_type": "markdown",
   "metadata": {},
   "source": [
    "<h3> Development of demand since 2008 </h3>\n",
    "- Review Rate of 50% is used to convert reviews to estimated bookings\n",
    "- based on yearly changes"
   ]
  },
  {
   "cell_type": "code",
   "execution_count": null,
   "metadata": {},
   "outputs": [],
   "source": [
    "accum_reviews_per_year= {\n",
    "    \"2008\": 2* len(reviews[reviews['date'] <= dt.date(year=2008, month=12, day=31)]),\n",
    "    \"2009\": 2* len(reviews[reviews['date'] <= dt.date(year=2009, month=12, day=31)]) ,\n",
    "    \"2010\": 2* len(reviews[reviews['date'] <= dt.date(year=2010, month=12, day=31)]) ,\n",
    "    \"2011\": 2* len(reviews[reviews['date'] <= dt.date(year=2011, month=12, day=31)]) ,\n",
    "    \"2012\": 2* len(reviews[reviews['date'] <= dt.date(year=2012, month=12, day=31)]) ,\n",
    "    \"2013\": 2* len(reviews[reviews['date'] <= dt.date(year=2013, month=12, day=31)]) ,\n",
    "    \"2014\": 2* len(reviews[reviews['date'] <= dt.date(year=2014, month=12, day=31)]) ,\n",
    "    \"2015\": 2* len(reviews[reviews['date'] <= dt.date(year=2015, month=12, day=31)]) ,\n",
    "    \"2016\": 2* len(reviews[reviews['date'] <= dt.date(year=2016, month=12, day=31)]) ,\n",
    "    \"2017\": 2* len(reviews[reviews['date'] <= dt.date(year=2017, month=12, day=31)]) ,\n",
    "    \"2018\": 2* len(reviews[reviews['date'] <= dt.date(year=2018, month=12, day=31)])\n",
    "}\n",
    "\n",
    "\n",
    "fig = plt.figure().add_subplot(111)\n",
    "x = accum_reviews_per_year.keys()\n",
    "y= accum_reviews_per_year.values()\n",
    "\n",
    "plt.xticks(fontsize=9, color='darkgrey', fontweight='bold', rotation=20)\n",
    "plt.yticks(fontsize=9, color='darkgrey', fontweight='bold')\n",
    "plt.subplots_adjust(left=0.15)\n",
    "\n",
    "\n",
    "for i,j in zip(x,y):\n",
    "    fig.annotate('%s' %j, xy=(i,j), xytext=(10,0), textcoords='offset points',)\n",
    "\n",
    "#German version\n",
    "#plt.suptitle('Wie stark ist die Nachfrageseite gewachsen?',fontsize=12)\n",
    "#plt.title('Entwicklung der Nachfrage seit 2008', fontsize=10, color='grey', fontweight='bold')\n",
    "#plt.ylabel('Anzahl an Buchungen')\n",
    "#plt.plot(x,y, linestyle='--', marker='o', color='lightskyblue')\n",
    "#plt.savefig('German Graphs/entwicklung_nachfrage.png')\n",
    "\n",
    "#English version\n",
    "plt.suptitle('How strong was the growth on the demand side?',fontsize=12)\n",
    "plt.title('Development of demand since 2008', fontsize=10, color='grey', fontweight='bold')\n",
    "plt.ylabel('Bookings')\n",
    "plt.plot(x,y, linestyle='--', marker='o', color='lightskyblue')\n",
    "plt.savefig('English Graphs/development_demand.png')\n"
   ]
  }
 ],
 "metadata": {
  "kernelspec": {
   "display_name": "Python 3",
   "language": "python",
   "name": "python3"
  },
  "language_info": {
   "codemirror_mode": {
    "name": "ipython",
    "version": 3
   },
   "file_extension": ".py",
   "mimetype": "text/x-python",
   "name": "python",
   "nbconvert_exporter": "python",
   "pygments_lexer": "ipython3",
   "version": "3.6.4"
  }
 },
 "nbformat": 4,
 "nbformat_minor": 2
}
